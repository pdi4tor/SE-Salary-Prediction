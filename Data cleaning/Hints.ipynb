{
 "cells": [
  {
   "cell_type": "markdown",
   "id": "ca511366",
   "metadata": {},
   "source": [
    "normalizing a data set that has numeric features covering distinctly different ranges (for example, age and income). When different features have different ranges, gradient descent can \"bounce\" and slow down convergence. Optimizers like Adagrad and Adam protect against this problem by creating a separate effective learning rate for each feature."
   ]
  },
  {
   "cell_type": "markdown",
   "id": "10bd2610",
   "metadata": {},
   "source": [
    "# Normalization\n",
    "\n"
   ]
  },
  {
   "cell_type": "markdown",
   "id": "46e33f38",
   "metadata": {},
   "source": [
    "The goal of normalization is to transform features to be on a similar scale. This improves the performance and training stability of the model."
   ]
  },
  {
   "cell_type": "markdown",
   "id": "404a8fc4",
   "metadata": {},
   "source": [
    "https://developers.google.com/machine-learning/data-prep/transform/normalization"
   ]
  },
  {
   "cell_type": "markdown",
   "id": "a9b70b45",
   "metadata": {},
   "source": [
    "Regression analysis looks at the relationship between input variables and the outcome. Based on the input, the model will learn to predict the correct type of output "
   ]
  },
  {
   "cell_type": "markdown",
   "id": "02e5c1ad",
   "metadata": {},
   "source": [
    "https://learn.microsoft.com/en-us/windows/ai/windows-ml/tutorials/pytorch-analysis-train-model"
   ]
  },
  {
   "cell_type": "markdown",
   "id": "f22cba4e",
   "metadata": {},
   "source": [
    "https://www.learnpytorch.io/02_pytorch_classification/"
   ]
  },
  {
   "cell_type": "markdown",
   "id": "361a2533",
   "metadata": {},
   "source": [
    "https://visualstudiomagazine.com/Articles/2020/12/15/pytorch-network.aspx?Page=2"
   ]
  },
  {
   "cell_type": "markdown",
   "id": "9bb72bd5",
   "metadata": {},
   "source": [
    "https://stackabuse.com/introduction-to-pytorch-for-classification/"
   ]
  },
  {
   "cell_type": "code",
   "execution_count": null,
   "id": "6ed109ed",
   "metadata": {},
   "outputs": [],
   "source": []
  }
 ],
 "metadata": {
  "kernelspec": {
   "display_name": "Python 3 (ipykernel)",
   "language": "python",
   "name": "python3"
  },
  "language_info": {
   "codemirror_mode": {
    "name": "ipython",
    "version": 3
   },
   "file_extension": ".py",
   "mimetype": "text/x-python",
   "name": "python",
   "nbconvert_exporter": "python",
   "pygments_lexer": "ipython3",
   "version": "3.9.15"
  }
 },
 "nbformat": 4,
 "nbformat_minor": 5
}
