{
 "cells": [
  {
   "cell_type": "code",
   "execution_count": 4,
   "id": "6ad4527d",
   "metadata": {},
   "outputs": [
    {
     "name": "stdout",
     "output_type": "stream",
     "text": [
      "Sequential(\n",
      "  (0): Linear(in_features=4215, out_features=4500, bias=True)\n",
      "  (1): ReLU()\n",
      "  (2): Dropout(p=0.1, inplace=False)\n",
      "  (3): Linear(in_features=4500, out_features=3000, bias=True)\n",
      "  (4): ReLU()\n",
      "  (5): Dropout(p=0.2, inplace=False)\n",
      "  (6): Linear(in_features=3000, out_features=1000, bias=True)\n",
      "  (7): ReLU()\n",
      "  (8): Dropout(p=0.1, inplace=False)\n",
      "  (9): Linear(in_features=1000, out_features=300, bias=True)\n",
      "  (10): ReLU()\n",
      "  (11): Linear(in_features=300, out_features=1, bias=True)\n",
      ")\n"
     ]
    }
   ],
   "source": [
    "number_input_features = 4215\n",
    "hidden_nodes_layer1 = 4500\n",
    "hidden_nodes_layer2 = 3000\n",
    "hidden_nodes_layer3 = 1000\n",
    "hidden_nodes_layer4 = 300\n",
    "\n",
    "model = nn.Sequential(\n",
    "    nn.Linear(number_input_features, hidden_nodes_layer1),\n",
    "    nn.ReLU(),\n",
    "    nn.Dropout(0.1),\n",
    "    nn.Linear(hidden_nodes_layer1, hidden_nodes_layer2),\n",
    "    nn.ReLU(),\n",
    "    nn.Dropout(0.2),\n",
    "    nn.Linear(hidden_nodes_layer2, hidden_nodes_layer3),\n",
    "    nn.ReLU(),\n",
    "    nn.Dropout(0.1),\n",
    "    nn.Linear(hidden_nodes_layer3, hidden_nodes_layer4),\n",
    "    nn.ReLU(),\n",
    "    nn.Linear(hidden_nodes_layer4, 1)\n",
    ")\n",
    "\n",
    "print(model)\n",
    "\n",
    "\n",
    "\n"
   ]
  },
  {
   "cell_type": "code",
   "execution_count": 3,
   "id": "f5af3323",
   "metadata": {},
   "outputs": [],
   "source": [
    "import torch\n",
    "import torch.nn as nn\n",
    "import torch.nn.functional as F"
   ]
  },
  {
   "cell_type": "code",
   "execution_count": null,
   "id": "42f48749",
   "metadata": {},
   "outputs": [],
   "source": []
  }
 ],
 "metadata": {
  "kernelspec": {
   "display_name": "Python 3 (ipykernel)",
   "language": "python",
   "name": "python3"
  },
  "language_info": {
   "codemirror_mode": {
    "name": "ipython",
    "version": 3
   },
   "file_extension": ".py",
   "mimetype": "text/x-python",
   "name": "python",
   "nbconvert_exporter": "python",
   "pygments_lexer": "ipython3",
   "version": "3.9.15"
  }
 },
 "nbformat": 4,
 "nbformat_minor": 5
}
